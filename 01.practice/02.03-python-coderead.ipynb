{
 "cells": [
  {
   "cell_type": "markdown",
   "metadata": {},
   "source": [
    "# 代码阅读\n",
    "个人认为学习代码的过程中，去阅读高质量的是必不可少的一个环节，从中我们要学习吸收注释习惯、代码规范、过程控制等等。这里将提供一个成熟的代码，通过自己已有的基础知识和Google去搞明白它！"
   ]
  }
 ],
 "metadata": {
  "kernelspec": {
   "display_name": "Python 3",
   "language": "python",
   "name": "python3"
  },
  "language_info": {
   "codemirror_mode": {
    "name": "ipython",
    "version": 3
   },
   "file_extension": ".py",
   "mimetype": "text/x-python",
   "name": "python",
   "nbconvert_exporter": "python",
   "pygments_lexer": "ipython3",
   "version": "3.6.1"
  }
 },
 "nbformat": 4,
 "nbformat_minor": 2
}
