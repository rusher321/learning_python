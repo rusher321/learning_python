{
 "cells": [
  {
   "cell_type": "markdown",
   "metadata": {},
   "source": [
    "# Ipython notebook\n",
    ">`Ipython notebook` 和`jupyter notebook` 一样，使用浏览器作为交互界面，向后台的Ipython发送请求并返回结果。是一个可以把代码、图像、注释、公式和作图集于一处，从而实现可读性分析的一种灵活的工具。\n",
    ">以cell作为基本单元，有两种模式，一种markdown(比如现在)，一种code;在code中输入代码，快捷键CTRL+enter运行代码，并输出最后一行代码于显示区域，如果想屏蔽掉加分号即可；Tab键可自动补全。"
   ]
  },
  {
   "cell_type": "markdown",
   "metadata": {},
   "source": [
    "## 快捷键\n",
    "\n",
    " Windows下 **Ctrl + Shift + P** 调出命令面板。这个对话框可以让你通过名称来运行任何命令——当你不知道某个操作的快捷键，或者那个操作没有快捷键的时候尤其有用。\n",
    " \n",
    " **常用快捷键汇总**\n",
    " \n",
    "  *** \n",
    "  * B == 插入cell\n",
    "  * DD == 删除cell\n",
    "  * Esc + F == 查找、替换\n",
    "  * Esc + O == 在cell和输出结果间切换。\n",
    "  * 选择多个cell: \n",
    "    \n",
    "    Shift + J 或 Shift + Down == 选择下一个cell。\n",
    "    \n",
    "    Shift + K 或 Shift + Up == 选择上一个cell。\n",
    "  * Shift + M 合并cell"
   ]
  },
  {
   "cell_type": "markdown",
   "metadata": {},
   "source": [
    "## Markdown学习\n",
    ">Markdown 是一种轻量级的「标记语言」.Markdown 的语法十分简单。常用的标记符号也不超过十个，这种相对于更为复杂的 HTML 标记语言来说，Markdown 可谓是十分轻量的，学习成本也不需要太多，且一旦熟悉这种语法规则，会有一劳永逸的效果.\n",
    "\n",
    ">点击学习 [markdown入门指南](http://www.jianshu.com/p/1e402922ee32)"
   ]
  },
  {
   "cell_type": "markdown",
   "metadata": {},
   "source": [
    "## 文件嵌入\n",
    "* 嵌入图片\n",
    "* 嵌入音乐\n",
    "* 嵌入视频"
   ]
  }
 ],
 "metadata": {
  "anaconda-cloud": {},
  "kernelspec": {
   "display_name": "Python [conda root]",
   "language": "python",
   "name": "conda-root-py"
  },
  "language_info": {
   "codemirror_mode": {
    "name": "ipython",
    "version": 3
   },
   "file_extension": ".py",
   "mimetype": "text/x-python",
   "name": "python",
   "nbconvert_exporter": "python",
   "pygments_lexer": "ipython3",
   "version": "3.5.2"
  }
 },
 "nbformat": 4,
 "nbformat_minor": 1
}
