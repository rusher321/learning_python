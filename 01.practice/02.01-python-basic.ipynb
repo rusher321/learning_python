{
 "cells": [
  {
   "cell_type": "markdown",
   "metadata": {},
   "source": [
    "# Python入门\n",
    ">任何一种计算机语音，我们都需要搞明白它最基本的元素和基本的语法规则，可以先根据这个笔记简单的过一下\n",
    "\n",
    "### 科学计算"
   ]
  },
  {
   "cell_type": "code",
   "execution_count": 10,
   "metadata": {},
   "outputs": [
    {
     "name": "stdout",
     "output_type": "stream",
     "text": [
      "4\n",
      "4\n",
      "4.0\n",
      "8\n",
      "0.6666666666666666\n",
      "1.4142135623730951\n",
      "1.4142135623730951\n"
     ]
    }
   ],
   "source": [
    "print(2+2)\n",
    "print(2*2)\n",
    "print(2.0*2)\n",
    "print(2**3)\n",
    "print(2/3)\n",
    "print(2**(1/2))\n",
    "import math\n",
    "print(math.sqrt(2))"
   ]
  },
  {
   "cell_type": "code",
   "execution_count": 5,
   "metadata": {},
   "outputs": [
    {
     "name": "stdout",
     "output_type": "stream",
     "text": [
      "2 3 8.0\n",
      "2.1 3.2 10.74241047739471\n",
      "1.0 5 1.0\n",
      "2.0 0 1.0\n",
      "2 nan nan\n",
      "9.0 0.5 3.0\n",
      "27.0 0.3333333333333333 3.0\n"
     ]
    }
   ],
   "source": [
    "# 指数运算\n",
    "import math\n",
    "for x,y in [(2,3),(2.1,3.2),(1.0,5),(2.0,0),(2,float('nan')),(9.0,0.5),(27.0,1.0/3)]:\n",
    "    print (x,y,math.pow(x,y))"
   ]
  },
  {
   "cell_type": "code",
   "execution_count": 12,
   "metadata": {
    "scrolled": true
   },
   "outputs": [
    {
     "name": "stdout",
     "output_type": "stream",
     "text": [
      "3.0\n"
     ]
    }
   ],
   "source": [
    "# 对数运算\n",
    "import math\n",
    "print(math.log(8,2))"
   ]
  },
  {
   "cell_type": "markdown",
   "metadata": {},
   "source": [
    "* 任何一种计算机语言中都要注意整数运算和浮点运算的区别"
   ]
  },
  {
   "cell_type": "markdown",
   "metadata": {},
   "source": [
    "### 字符串"
   ]
  },
  {
   "cell_type": "code",
   "execution_count": 13,
   "metadata": {},
   "outputs": [
    {
     "data": {
      "text/plain": [
       "2"
      ]
     },
     "execution_count": 13,
     "metadata": {},
     "output_type": "execute_result"
    }
   ],
   "source": [
    "a = 2\n",
    "a"
   ]
  },
  {
   "cell_type": "code",
   "execution_count": 24,
   "metadata": {},
   "outputs": [
    {
     "name": "stdout",
     "output_type": "stream",
     "text": [
      "miner miner\n",
      "\n",
      "hello\n",
      "huahui\n",
      " \n",
      "hello\n",
      "huahui\n",
      "\n",
      "miner:\n",
      "hello\n",
      "huahui\n",
      "\n",
      "m\n",
      "r\n",
      "miner\n",
      "['miner:', 'hello', 'huahui']\n",
      "5\n",
      "3\n"
     ]
    }
   ],
   "source": [
    "s1 = \"miner\"\n",
    "s2 = 'miner'\n",
    "print(s1, s2)\n",
    "s3 = \"\"\"\n",
    "hello\n",
    "huahui\n",
    "\"\"\"\n",
    "s4 = '''\n",
    "hello\n",
    "huahui\n",
    "'''\n",
    "print(s3, s4)\n",
    "\n",
    "# 字符串加法\n",
    "s5 = s1+\":\"+s4\n",
    "print(s5)\n",
    "# 字符串索引\n",
    "print(s1[0])\n",
    "print(s1[-1])\n",
    "print(s1[0:5])\n",
    "# 字符串分割\n",
    "s6 = s5.split()\n",
    "print(s6)\n",
    "# 字符串长度\n",
    "print(len(s1))\n",
    "print(len(s6))"
   ]
  },
  {
   "cell_type": "markdown",
   "metadata": {},
   "source": [
    "***\n",
    "* python中的变量赋值用 = \n",
    "* 字符串的单引号和双引号是等价的\n",
    "* 字符串的三引号可加入多行文字\n",
    "* 注意索引是从0开始，是个左闭右开的区间，所以最后一位其实没有对应的字符\n"
   ]
  },
  {
   "cell_type": "markdown",
   "metadata": {},
   "source": [
    "### 列表和集合"
   ]
  },
  {
   "cell_type": "code",
   "execution_count": 28,
   "metadata": {},
   "outputs": [
    {
     "name": "stdout",
     "output_type": "stream",
     "text": [
      "[1, 2, 3, 'a', 6]\n",
      "[1, 2, 3, 'a', 6, 1, 2, 3, 'a', 6]\n",
      "2\n",
      "5\n",
      "[1, 2, 3, 'a', 6, 'miner']\n"
     ]
    }
   ],
   "source": [
    "a = [1,2,3,\"a\",1*2*3]\n",
    "print(a)\n",
    "print(a + a)\n",
    "print(a[1])\n",
    "print(len(a))\n",
    "a.append(\"miner\")\n",
    "print(a)"
   ]
  },
  {
   "cell_type": "code",
   "execution_count": 37,
   "metadata": {},
   "outputs": [
    {
     "name": "stdout",
     "output_type": "stream",
     "text": [
      "{1, 2, 3, 'a'}\n",
      "4\n",
      "{1, 2, 3, 'a', 'b'}\n",
      "{1, 2}\n",
      "{1, 2, 3, 'a', 'b', 'c'}\n",
      "{3, 'a', 'b'}\n",
      "{3, 'a', 'b', 'c'}\n"
     ]
    }
   ],
   "source": [
    "b = {1,2,3,\"a\",2}\n",
    "print(b)\n",
    "print(len(b))\n",
    "b.add(\"b\")\n",
    "print(b)\n",
    "c = {1,2,\"c\"}\n",
    "print(b & c)\n",
    "print(b | c)\n",
    "print(b - c)\n",
    "print(b^c)"
   ]
  },
  {
   "cell_type": "markdown",
   "metadata": {},
   "source": [
    "* 列表是[], 集合是{}\n",
    "* 集合中不能有相同的元素\n",
    "* 集合的交（&）并（|）差（-）对称差（^）"
   ]
  },
  {
   "cell_type": "markdown",
   "metadata": {},
   "source": [
    "### 字典"
   ]
  },
  {
   "cell_type": "code",
   "execution_count": 42,
   "metadata": {
    "scrolled": true
   },
   "outputs": [
    {
     "name": "stdout",
     "output_type": "stream",
     "text": [
      "{'name': 'huahui', 'age': 5}\n",
      "2\n",
      "huahui\n",
      "{'name': 'miner', 'age': 5}\n",
      "{'name': 'miner', 'age': 5, 'gender': 'famale'}\n",
      "dict_keys(['name', 'age', 'gender'])\n",
      "dict_values(['miner', 5, 'famale'])\n",
      "dict_items([('name', 'miner'), ('age', 5), ('gender', 'famale')])\n"
     ]
    }
   ],
   "source": [
    "dir = {'name': \"huahui\", 'age':5}\n",
    "print(dir)\n",
    "print(len(dir))\n",
    "print(dir['name'])\n",
    "# 修改\n",
    "dir['name'] = 'miner'\n",
    "print(dir)\n",
    "# 插入\n",
    "dir['gender'] = \"famale\"\n",
    "print(dir)\n",
    "# 获取键\n",
    "print(dir.keys())\n",
    "# 获取值\n",
    "print(dir.values())\n",
    "# all\n",
    "print(dir.items())"
   ]
  },
  {
   "cell_type": "markdown",
   "metadata": {},
   "source": [
    "* python中很重要的一种数据形式：字典，主要由key(键)和value(值)组成\n",
    "* 类比于其他语言中的hash表"
   ]
  },
  {
   "cell_type": "markdown",
   "metadata": {},
   "source": [
    "### 数组"
   ]
  },
  {
   "cell_type": "code",
   "execution_count": 2,
   "metadata": {},
   "outputs": [
    {
     "name": "stdout",
     "output_type": "stream",
     "text": [
      "[1 2 3 4]\n",
      "[3 4 5 6]\n",
      "[2 4 6 8]\n"
     ]
    }
   ],
   "source": [
    "from numpy import array\n",
    "a = array([1, 2, 3, 4])\n",
    "print(a)\n",
    "print(a + 2)\n",
    "print(a + a)"
   ]
  },
  {
   "cell_type": "markdown",
   "metadata": {},
   "source": [
    "* python很多情况下都要借助于包来实现具体的方法import  packages as pa 或者导入具体的方法 from packages import method\n",
    "* 数组运算很方便实现某些循环"
   ]
  },
  {
   "cell_type": "markdown",
   "metadata": {},
   "source": [
    "### 循环"
   ]
  },
  {
   "cell_type": "code",
   "execution_count": 6,
   "metadata": {},
   "outputs": [
    {
     "name": "stdout",
     "output_type": "stream",
     "text": [
      "1\n",
      "1\n",
      "2\n",
      "3\n",
      "3\n",
      "6\n",
      "4\n",
      "10\n",
      "5\n",
      "15\n",
      "6\n",
      "21\n"
     ]
    }
   ],
   "source": [
    "a = [1, 2, 3, 4, 5, 6]\n",
    "total = 0\n",
    "for i in a:\n",
    "    print(i)\n",
    "    total+=int(i)\n",
    "    print(total)"
   ]
  },
  {
   "cell_type": "code",
   "execution_count": 19,
   "metadata": {},
   "outputs": [
    {
     "name": "stdout",
     "output_type": "stream",
     "text": [
      "1\n",
      "3\n",
      "5\n",
      "7\n",
      "9\n"
     ]
    }
   ],
   "source": [
    "a = range(1,10,2)\n",
    "for i in a:\n",
    "    print(i)"
   ]
  },
  {
   "cell_type": "code",
   "execution_count": 29,
   "metadata": {},
   "outputs": [
    {
     "name": "stdout",
     "output_type": "stream",
     "text": [
      "5050\n",
      "2500\n"
     ]
    }
   ],
   "source": [
    "a = range(1, 100, 2)\n",
    "print(sum(range(1,101)))\n",
    "total = sum([int(i) for i in a])\n",
    "print(total)"
   ]
  },
  {
   "cell_type": "code",
   "execution_count": null,
   "metadata": {},
   "outputs": [],
   "source": [
    "while True:\n",
    "    word = input('please input a word:')\n",
    "    if not word: break\n",
    "    print('the word was ' + word"
   ]
  },
  {
   "cell_type": "markdown",
   "metadata": {},
   "source": [
    "### 判断"
   ]
  },
  {
   "cell_type": "code",
   "execution_count": null,
   "metadata": {
    "collapsed": true
   },
   "outputs": [],
   "source": []
  }
 ],
 "metadata": {
  "kernelspec": {
   "display_name": "Python 3",
   "language": "python",
   "name": "python3"
  },
  "language_info": {
   "codemirror_mode": {
    "name": "ipython",
    "version": 3
   },
   "file_extension": ".py",
   "mimetype": "text/x-python",
   "name": "python",
   "nbconvert_exporter": "python",
   "pygments_lexer": "ipython3",
   "version": "3.6.1"
  }
 },
 "nbformat": 4,
 "nbformat_minor": 2
}
