{
 "cells": [
  {
   "cell_type": "markdown",
   "metadata": {},
   "source": [
    "ex# Rosalind\n",
    ">Rosalind是一个通过解决问题来学习生物信息的平台，其中有一个模块python village，个人感觉挺适合来巩固python基础。这个平台的模式是提出问题-解决问题-提交问题-查看别人的答案。原则是必须自己来解决问题，可以Google，但请不要Google原问题的答案。点击[Rosalind](http://rosalind.info/problems/list-view/?location=python-village)进入。\n",
    "\n",
    "## example\n",
    "* 问题列表，这些问题都比较简单\n",
    "![question list](/00.material/r1.png)\n",
    "* 对问题的解释\n",
    "![explain](/00.material/r2.png)\n",
    "* 下载待解决问题相关数据集,下载了文件后，你需要在五分钟之内上传答案，否则需要重新下载\n",
    "![dataset](/00.material/r3.png)\n",
    "* 上传答案，在solution可以看到别人的回答和讨论\n",
    "![answer](/00.material/r4.png)"
   ]
  }
 ],
 "metadata": {
  "kernelspec": {
   "display_name": "Python 3",
   "language": "python",
   "name": "python3"
  },
  "language_info": {
   "codemirror_mode": {
    "name": "ipython",
    "version": 3
   },
   "file_extension": ".py",
   "mimetype": "text/x-python",
   "name": "python",
   "nbconvert_exporter": "python",
   "pygments_lexer": "ipython3",
   "version": "3.6.1"
  }
 },
 "nbformat": 4,
 "nbformat_minor": 2
}
