{
 "cells": [
  {
   "cell_type": "markdown",
   "metadata": {},
   "source": [
    "# Rosalind\n",
    ">Rosalind是一个通过解决问题来学习生物信息的平台，其中有一个模块python village，个人感觉挺适合来巩固python基础。这个平台的模式是提出问题-解决问题-提交问题-查看别人的答案。原则是必须自己来解决问题，可以Google，但请不要Google原问题的答案。点击[Rosalind](http://rosalind.info/problems/list-view/?location=python-village)进入。\n",
    "\n",
    "## example",
    "* 问题列表，这些问题都比较简单",
    "![problem list](/oo.material/r1)"
   ]
  }
 ],
 "metadata": {
  "kernelspec": {
   "display_name": "Python 3",
   "language": "python",
   "name": "python3"
  },
  "language_info": {
   "codemirror_mode": {
    "name": "ipython",
    "version": 3
   },
   "file_extension": ".py",
   "mimetype": "text/x-python",
   "name": "python",
   "nbconvert_exporter": "python",
   "pygments_lexer": "ipython3",
   "version": "3.6.1"
  }
 },
 "nbformat": 4,
 "nbformat_minor": 2
}
